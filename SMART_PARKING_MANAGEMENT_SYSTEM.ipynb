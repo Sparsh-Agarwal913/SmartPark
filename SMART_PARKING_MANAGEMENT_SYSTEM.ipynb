{
  "nbformat": 4,
  "nbformat_minor": 0,
  "metadata": {
    "colab": {
      "provenance": []
    },
    "kernelspec": {
      "name": "python3",
      "display_name": "Python 3"
    },
    "language_info": {
      "name": "python"
    },
    "accelerator": "GPU",
    "gpuClass": "standard"
  },
  "cells": [
    {
      "cell_type": "code",
      "source": [
        "!pip install easyocr"
      ],
      "metadata": {
        "colab": {
          "base_uri": "https://localhost:8080/",
          "height": 953
        },
        "id": "N9DDU7OHCRBs",
        "outputId": "4f67b2e2-d742-4b39-ed84-6a4ab2d3a5be"
      },
      "execution_count": null,
      "outputs": [
        {
          "output_type": "stream",
          "name": "stdout",
          "text": [
            "Looking in indexes: https://pypi.org/simple, https://us-python.pkg.dev/colab-wheels/public/simple/\n",
            "Collecting easyocr\n",
            "  Downloading easyocr-1.6.2-py3-none-any.whl (2.9 MB)\n",
            "\u001b[2K     \u001b[90m━━━━━━━━━━━━━━━━━━━━━━━━━━━━━━━━━━━━━━━━\u001b[0m \u001b[32m2.9/2.9 MB\u001b[0m \u001b[31m51.5 MB/s\u001b[0m eta \u001b[36m0:00:00\u001b[0m\n",
            "\u001b[?25hCollecting ninja\n",
            "  Downloading ninja-1.11.1-py2.py3-none-manylinux_2_12_x86_64.manylinux2010_x86_64.whl (145 kB)\n",
            "\u001b[2K     \u001b[90m━━━━━━━━━━━━━━━━━━━━━━━━━━━━━━━━━━━━━━\u001b[0m \u001b[32m146.0/146.0 kB\u001b[0m \u001b[31m23.6 MB/s\u001b[0m eta \u001b[36m0:00:00\u001b[0m\n",
            "\u001b[?25hRequirement already satisfied: scipy in /usr/local/lib/python3.9/dist-packages (from easyocr) (1.10.1)\n",
            "Requirement already satisfied: torch in /usr/local/lib/python3.9/dist-packages (from easyocr) (2.0.0+cu118)\n",
            "Requirement already satisfied: torchvision>=0.5 in /usr/local/lib/python3.9/dist-packages (from easyocr) (0.15.1+cu118)\n",
            "Requirement already satisfied: PyYAML in /usr/local/lib/python3.9/dist-packages (from easyocr) (6.0)\n",
            "Requirement already satisfied: numpy in /usr/local/lib/python3.9/dist-packages (from easyocr) (1.22.4)\n",
            "Collecting pyclipper\n",
            "  Downloading pyclipper-1.3.0.post4-cp39-cp39-manylinux_2_5_x86_64.manylinux1_x86_64.whl (608 kB)\n",
            "\u001b[2K     \u001b[90m━━━━━━━━━━━━━━━━━━━━━━━━━━━━━━━━━━━━━━\u001b[0m \u001b[32m608.2/608.2 kB\u001b[0m \u001b[31m60.1 MB/s\u001b[0m eta \u001b[36m0:00:00\u001b[0m\n",
            "\u001b[?25hCollecting opencv-python-headless<=4.5.4.60\n",
            "  Downloading opencv_python_headless-4.5.4.60-cp39-cp39-manylinux_2_17_x86_64.manylinux2014_x86_64.whl (47.6 MB)\n",
            "\u001b[2K     \u001b[90m━━━━━━━━━━━━━━━━━━━━━━━━━━━━━━━━━━━━━━━━\u001b[0m \u001b[32m47.6/47.6 MB\u001b[0m \u001b[31m18.8 MB/s\u001b[0m eta \u001b[36m0:00:00\u001b[0m\n",
            "\u001b[?25hRequirement already satisfied: scikit-image in /usr/local/lib/python3.9/dist-packages (from easyocr) (0.19.3)\n",
            "Requirement already satisfied: Pillow in /usr/local/lib/python3.9/dist-packages (from easyocr) (8.4.0)\n",
            "Collecting python-bidi\n",
            "  Downloading python_bidi-0.4.2-py2.py3-none-any.whl (30 kB)\n",
            "Requirement already satisfied: Shapely in /usr/local/lib/python3.9/dist-packages (from easyocr) (2.0.1)\n",
            "Requirement already satisfied: requests in /usr/local/lib/python3.9/dist-packages (from torchvision>=0.5->easyocr) (2.27.1)\n",
            "Requirement already satisfied: typing-extensions in /usr/local/lib/python3.9/dist-packages (from torch->easyocr) (4.5.0)\n",
            "Requirement already satisfied: networkx in /usr/local/lib/python3.9/dist-packages (from torch->easyocr) (3.1)\n",
            "Requirement already satisfied: sympy in /usr/local/lib/python3.9/dist-packages (from torch->easyocr) (1.11.1)\n",
            "Requirement already satisfied: filelock in /usr/local/lib/python3.9/dist-packages (from torch->easyocr) (3.11.0)\n",
            "Requirement already satisfied: triton==2.0.0 in /usr/local/lib/python3.9/dist-packages (from torch->easyocr) (2.0.0)\n",
            "Requirement already satisfied: jinja2 in /usr/local/lib/python3.9/dist-packages (from torch->easyocr) (3.1.2)\n",
            "Requirement already satisfied: cmake in /usr/local/lib/python3.9/dist-packages (from triton==2.0.0->torch->easyocr) (3.25.2)\n",
            "Requirement already satisfied: lit in /usr/local/lib/python3.9/dist-packages (from triton==2.0.0->torch->easyocr) (16.0.1)\n",
            "Requirement already satisfied: six in /usr/local/lib/python3.9/dist-packages (from python-bidi->easyocr) (1.16.0)\n",
            "Requirement already satisfied: imageio>=2.4.1 in /usr/local/lib/python3.9/dist-packages (from scikit-image->easyocr) (2.25.1)\n",
            "Requirement already satisfied: packaging>=20.0 in /usr/local/lib/python3.9/dist-packages (from scikit-image->easyocr) (23.0)\n",
            "Requirement already satisfied: PyWavelets>=1.1.1 in /usr/local/lib/python3.9/dist-packages (from scikit-image->easyocr) (1.4.1)\n",
            "Requirement already satisfied: tifffile>=2019.7.26 in /usr/local/lib/python3.9/dist-packages (from scikit-image->easyocr) (2023.3.21)\n",
            "Requirement already satisfied: MarkupSafe>=2.0 in /usr/local/lib/python3.9/dist-packages (from jinja2->torch->easyocr) (2.1.2)\n",
            "Requirement already satisfied: idna<4,>=2.5 in /usr/local/lib/python3.9/dist-packages (from requests->torchvision>=0.5->easyocr) (3.4)\n",
            "Requirement already satisfied: charset-normalizer~=2.0.0 in /usr/local/lib/python3.9/dist-packages (from requests->torchvision>=0.5->easyocr) (2.0.12)\n",
            "Requirement already satisfied: certifi>=2017.4.17 in /usr/local/lib/python3.9/dist-packages (from requests->torchvision>=0.5->easyocr) (2022.12.7)\n",
            "Requirement already satisfied: urllib3<1.27,>=1.21.1 in /usr/local/lib/python3.9/dist-packages (from requests->torchvision>=0.5->easyocr) (1.26.15)\n",
            "Requirement already satisfied: mpmath>=0.19 in /usr/local/lib/python3.9/dist-packages (from sympy->torch->easyocr) (1.3.0)\n",
            "Installing collected packages: pyclipper, ninja, python-bidi, opencv-python-headless, easyocr\n",
            "  Attempting uninstall: opencv-python-headless\n",
            "    Found existing installation: opencv-python-headless 4.7.0.72\n",
            "    Uninstalling opencv-python-headless-4.7.0.72:\n",
            "      Successfully uninstalled opencv-python-headless-4.7.0.72\n",
            "Successfully installed easyocr-1.6.2 ninja-1.11.1 opencv-python-headless-4.5.4.60 pyclipper-1.3.0.post4 python-bidi-0.4.2\n"
          ]
        },
        {
          "output_type": "display_data",
          "data": {
            "application/vnd.colab-display-data+json": {
              "pip_warning": {
                "packages": [
                  "cv2"
                ]
              }
            }
          },
          "metadata": {}
        }
      ]
    },
    {
      "cell_type": "code",
      "source": [
        "!pip install sqlite-ulid sqlite-jsonschema sqlite-fastrand sqlite-xsv"
      ],
      "metadata": {
        "colab": {
          "base_uri": "https://localhost:8080/"
        },
        "id": "3E0iFSjkPL_9",
        "outputId": "c0c429d7-155e-4cf2-cdcb-e84cc6032514"
      },
      "execution_count": null,
      "outputs": [
        {
          "output_type": "stream",
          "name": "stdout",
          "text": [
            "Looking in indexes: https://pypi.org/simple, https://us-python.pkg.dev/colab-wheels/public/simple/\n",
            "Collecting sqlite-ulid\n",
            "  Downloading sqlite_ulid-0.2.0-py3-none-manylinux_2_17_x86_64.manylinux2014_x86_64.manylinux1_x86_64.whl (1.1 MB)\n",
            "\u001b[2K     \u001b[90m━━━━━━━━━━━━━━━━━━━━━━━━━━━━━━━━━━━━━━━━\u001b[0m \u001b[32m1.1/1.1 MB\u001b[0m \u001b[31m4.0 MB/s\u001b[0m eta \u001b[36m0:00:00\u001b[0m\n",
            "\u001b[?25hCollecting sqlite-jsonschema\n",
            "  Downloading sqlite_jsonschema-0.2.2-py3-none-manylinux_2_17_x86_64.manylinux2014_x86_64.manylinux1_x86_64.whl (2.2 MB)\n",
            "\u001b[2K     \u001b[90m━━━━━━━━━━━━━━━━━━━━━━━━━━━━━━━━━━━━━━━━\u001b[0m \u001b[32m2.2/2.2 MB\u001b[0m \u001b[31m2.7 MB/s\u001b[0m eta \u001b[36m0:00:00\u001b[0m\n",
            "\u001b[?25hCollecting sqlite-fastrand\n",
            "  Downloading sqlite_fastrand-0.2.0-py3-none-manylinux_2_17_x86_64.manylinux2014_x86_64.manylinux1_x86_64.whl (1.0 MB)\n",
            "\u001b[2K     \u001b[90m━━━━━━━━━━━━━━━━━━━━━━━━━━━━━━━━━━━━━━━━\u001b[0m \u001b[32m1.0/1.0 MB\u001b[0m \u001b[31m75.8 MB/s\u001b[0m eta \u001b[36m0:00:00\u001b[0m\n",
            "\u001b[?25hCollecting sqlite-xsv\n",
            "  Downloading sqlite_xsv-0.2.0-py3-none-manylinux_2_17_x86_64.manylinux2014_x86_64.manylinux1_x86_64.whl (1.9 MB)\n",
            "\u001b[2K     \u001b[90m━━━━━━━━━━━━━━━━━━━━━━━━━━━━━━━━━━━━━━━━\u001b[0m \u001b[32m1.9/1.9 MB\u001b[0m \u001b[31m7.3 MB/s\u001b[0m eta \u001b[36m0:00:00\u001b[0m\n",
            "\u001b[?25hInstalling collected packages: sqlite-xsv, sqlite-ulid, sqlite-jsonschema, sqlite-fastrand\n",
            "Successfully installed sqlite-fastrand-0.2.0 sqlite-jsonschema-0.2.2 sqlite-ulid-0.2.0 sqlite-xsv-0.2.0\n"
          ]
        }
      ]
    },
    {
      "cell_type": "code",
      "source": [
        "%cd ..\n",
        "from google.colab import drive\n",
        "drive.mount('/content/gdrive')\n"
      ],
      "metadata": {
        "colab": {
          "base_uri": "https://localhost:8080/"
        },
        "id": "z2B2YDCqnh1i",
        "outputId": "983688dc-84df-4f0e-c9b5-2c4485efcb8b"
      },
      "execution_count": null,
      "outputs": [
        {
          "output_type": "stream",
          "name": "stdout",
          "text": [
            "/content/gdrive/MyDrive\n",
            "Drive already mounted at /content/gdrive; to attempt to forcibly remount, call drive.mount(\"/content/gdrive\", force_remount=True).\n"
          ]
        }
      ]
    },
    {
      "cell_type": "code",
      "source": [
        "!ln -s /content/gdrive/My\\ Drive/ /mydrive\n",
        "%cd /mydrive/AI project"
      ],
      "metadata": {
        "colab": {
          "base_uri": "https://localhost:8080/"
        },
        "id": "JrS5LhbTnkPD",
        "outputId": "d6cb68f9-bb7d-49c0-bbba-3279fdfdfc7e"
      },
      "execution_count": null,
      "outputs": [
        {
          "output_type": "stream",
          "name": "stdout",
          "text": [
            "ln: failed to create symbolic link '/mydrive/My Drive': File exists\n",
            "/content/gdrive/My Drive/AI project\n"
          ]
        }
      ]
    },
    {
      "cell_type": "code",
      "execution_count": null,
      "metadata": {
        "id": "tJNp8csWCHzx"
      },
      "outputs": [],
      "source": [
        "import cv2\n",
        "import numpy as np\n",
        "import os.path\n",
        "import easyocr\n",
        "from matplotlib import pyplot as plt\n",
        "import sqlite3\n",
        "import datetime"
      ]
    },
    {
      "cell_type": "code",
      "source": [
        "\n",
        "classesFile = \"./names.txt\"\n",
        "classNames = []\n",
        "\n",
        "with open(classesFile, 'rt') as f:\n",
        "    classNames = f.read().rstrip('\\n').split('\\n')\n",
        "modelConfiguration = './yolov4-custom.cfg'\n",
        "modelWeights = './yolov4-custom_best.weights'\n",
        "\n",
        "net = cv2.dnn.readNetFromDarknet(modelConfiguration, modelWeights)\n",
        "net.setPreferableBackend(cv2.dnn.DNN_BACKEND_OPENCV)\n",
        "net.setPreferableTarget(cv2.dnn.DNN_TARGET_CPU)"
      ],
      "metadata": {
        "id": "R5g0WLv2nv2N"
      },
      "execution_count": null,
      "outputs": []
    },
    {
      "cell_type": "code",
      "source": [
        "def remove_special_chars(s):\n",
        "    # make a array of char you want to remove\n",
        "    special_chars = ['.', ',', '-', '_', '\\\\', '/',' ']\n",
        "    for char in special_chars:\n",
        "      # replce the char with '' \n",
        "        s = s.replace(char, '')\n",
        "    return s\n",
        "\n",
        "def most_frequent_string(arr):\n",
        "    # Initialize a dictionary to count the frequency of each string\n",
        "    freq = {}\n",
        "    \n",
        "    # Loop through the array and count the frequency of each string\n",
        "    for string in arr:\n",
        "        if string in freq:\n",
        "            freq[string] += 1\n",
        "        else:\n",
        "            freq[string] = 1\n",
        "    \n",
        "    # Find the string with the highest frequency\n",
        "    max_freq = 0\n",
        "    most_freq_string = \"\"\n",
        "    for string in freq:\n",
        "        if freq[string] > max_freq:\n",
        "            max_freq = freq[string]\n",
        "            most_freq_string = string\n",
        "    \n",
        "    # Return the most frequent string\n",
        "    return most_freq_string\n"
      ],
      "metadata": {
        "id": "Sw-jJAuxhkqI"
      },
      "execution_count": null,
      "outputs": []
    },
    {
      "cell_type": "code",
      "source": [
        "def findObjects(outputs, img,end):\n",
        "    hT, wT, cT = img.shape\n",
        "    bbox = []\n",
        "    classIds = []\n",
        "    confs = []\n",
        "    \n",
        "    for output in outputs:\n",
        "        for det in output:\n",
        "            scores = det[5:]\n",
        "            classId = np.argmax(scores)\n",
        "            confidence = scores[classId]\n",
        "            if confidence > confThreshold:\n",
        "                w, h = int(det[2]*wT), int(det[3]*hT)\n",
        "                x, y = int((det[0]*wT) - w/2), int((det[1]*hT) - h/2)\n",
        "                bbox.append([x, y, w, h])\n",
        "                classIds.append(classId)\n",
        "                confs.append(float(confidence))\n",
        "    indices = cv2.dnn.NMSBoxes(bbox, confs, confThreshold, nmsThreshold)\n",
        "\n",
        "    for i in indices:\n",
        "\n",
        "        i = i\n",
        "        box = bbox[i]\n",
        "        x, y, w, h = box[0], box[1], box[2], box[3]\n",
        "        print(x,y,w,h)\n",
        "\n",
        "        crop_img = img[y:y+h, x:x+w]\n",
        "        print(len(crop_img))\n",
        "        if (x<=0 or y<=0 or w<=0 or h<=0):\n",
        "          print('crop_img is empty')\n",
        "        else:\n",
        "          gray_img = cv2.cvtColor(crop_img, cv2.COLOR_BGR2GRAY)\n",
        "          reader = easyocr.Reader(['en'])\n",
        "          result = reader.readtext(gray_img)\n",
        "          if(result[0][1]==[]):\n",
        "            print('empty')\n",
        "            return result_rmsp,6\n",
        "          else:\n",
        "            result_rmsp=remove_special_chars(result[0][1])\n",
        "            end=end+1\n",
        "            print(end)\n",
        "            print(result_rmsp)\n",
        "            return result_rmsp,end"
      ],
      "metadata": {
        "id": "cxkX2ST9nxoN"
      },
      "execution_count": null,
      "outputs": []
    },
    {
      "cell_type": "code",
      "source": [
        "whT = 320\n",
        "confThreshold = 0.7\n",
        "nmsThreshold = 0.3\n",
        "task = 0\n",
        "resultarr=[]\n",
        "\n",
        "videopath = \"./test_videos/v\" + str(2) + \".mp4\"\n",
        "cap = cv2.VideoCapture(videopath)\n",
        "\n",
        "while True:\n",
        "    success, img = cap.read()\n",
        "    blob = cv2.dnn.blobFromImage(\n",
        "        img, 1/255, (whT, whT), [0, 0, 0], 1, crop=False)\n",
        "    net.setInput(blob)\n",
        "    layerNames = net.getLayerNames()\n",
        "\n",
        "    outputNames = [layerNames[i-1] for i in net.getUnconnectedOutLayers()]\n",
        "    outputs = net.forward(outputNames)\n",
        "    result,task = findObjects(outputs, img,task)\n",
        "    resultarr.append(result)\n",
        "    if(task==6):\n",
        "      break\n",
        "cap.release()"
      ],
      "metadata": {
        "colab": {
          "base_uri": "https://localhost:8080/"
        },
        "id": "ePC-slMhoGOv",
        "outputId": "1307858a-0617-4eb2-9391-74ec9e2686ec"
      },
      "execution_count": null,
      "outputs": [
        {
          "output_type": "stream",
          "name": "stdout",
          "text": [
            "882 699 170 51\n",
            "51\n",
            "1\n",
            "MH01TC0502\n",
            "882 698 171 52\n",
            "52\n",
            "2\n",
            "Mh01TC0502\n",
            "857 703 170 56\n",
            "56\n",
            "3\n",
            "MH01TC0502\n",
            "840 703 166 61\n",
            "61\n",
            "4\n",
            "MHOITC0502\n",
            "779 705 182 69\n",
            "69\n",
            "5\n",
            "MHOITC0502\n",
            "742 711 188 72\n",
            "72\n",
            "6\n",
            "MHOITC0502\n"
          ]
        }
      ]
    },
    {
      "cell_type": "code",
      "source": [
        "print(resultarr)\n",
        "final_detected = most_frequent_string(resultarr)\n",
        "current_time = datetime.datetime.now().strftime(\"%H:%M:%S\")\n",
        "print(final_detected)"
      ],
      "metadata": {
        "colab": {
          "base_uri": "https://localhost:8080/"
        },
        "id": "SiJEaV4n6JZm",
        "outputId": "2cc92392-cf4d-4556-9550-5cbdbaccac7c"
      },
      "execution_count": null,
      "outputs": [
        {
          "output_type": "stream",
          "name": "stdout",
          "text": [
            "['MH01TC0502', 'Mh01TC0502', 'MH01TC0502', 'MHOITC0502', 'MHOITC0502', 'MHOITC0502']\n",
            "MHOITC0502\n"
          ]
        }
      ]
    },
    {
      "cell_type": "code",
      "source": [
        "# top_left = tuple(result[0][0][0])\n",
        "# bottom_right = tuple(result[0][0][2])\n",
        "# text = result[0][1]\n",
        "# font = cv2.FONT_HERSHEY_SIMPLEX"
      ],
      "metadata": {
        "id": "JpAcNzNPCiV5"
      },
      "execution_count": null,
      "outputs": []
    },
    {
      "cell_type": "code",
      "source": [
        "# img = cv2.imread(IMAGE_PATH)\n",
        "# img = cv2.rectangle(img,top_left,bottom_right,(0,255,0),3)\n",
        "# img = cv2.putText(img,text,top_left, font, 0.5,(255,255,255),2,cv2.LINE_AA)\n",
        "# plt.imshow(img)\n",
        "# plt.show()"
      ],
      "metadata": {
        "id": "kYja2RC0Dr3d"
      },
      "execution_count": null,
      "outputs": []
    },
    {
      "cell_type": "code",
      "source": [
        "# img = cv2.imread(IMAGE_PATH)\n",
        "# spacer = 140\n",
        "# for detection in result: \n",
        "#     top_left = tuple(detection[0][0])\n",
        "#     bottom_right = tuple(detection[0][2])\n",
        "#     text = detection[1]\n",
        "#     img = cv2.rectangle(img,top_left,bottom_right,(0,255,0),3)\n",
        "#     img = cv2.putText(img,text,(10,spacer), font, 0.5,(0,255,0),2,cv2.LINE_AA)\n",
        "#     spacer+=15\n",
        "    \n",
        "# plt.imshow(img)\n",
        "# plt.show()"
      ],
      "metadata": {
        "id": "dZox9IV_Clh0"
      },
      "execution_count": null,
      "outputs": []
    },
    {
      "cell_type": "code",
      "source": [
        "cursor = sqlite3.connect('PMS.db')"
      ],
      "metadata": {
        "id": "KR6E2UxAORb5"
      },
      "execution_count": null,
      "outputs": []
    },
    {
      "cell_type": "code",
      "source": [
        "cursor.execute(\"create table Vehicle (Vehicle_No varchar(11) primary key , Owner_ID bigint not null , Owner_Type varchar(7) not null , Vehicle_Colour varchar(10) , Entry_Time time not null , Exit_Time time ) ;\")\n",
        "\n",
        "cursor.execute(\"create table Student (Student_ID bigint primary key , First_Name varchar(50) not null , Last_Name varchar(50) not null , DOB date not null , Gender varchar(20) not null , Contact_No bigint not null , Blood_Group varchar(3) , Year int not null, Vehicle_No varchar(11) not null, foreign key(Vehicle_No) references Vehicle(Vehicle_No) ) ;\")\n",
        "cursor.execute(\"create table Faculty (Faculty_ID bigint primary key , First_Name varchar(50) not null , Last_Name varchar(50) not null , DOB date not null , Gender varchar(20) not null , Contact_No bigint not null , Blood_Group varchar(3) , Department varchar(20) not null , Vehicle_No varchar(11) not null, foreign key(Vehicle_No) references Vehicle(Vehicle_No) ) ;\")\n",
        "cursor.execute(\"create table Staff (Staff_ID bigint primary key , First_Name varchar(50) not null , Last_Name varchar(50) not null , DOB date not null , Gender varchar(20) not null , Contact_No bigint not null , Blood_Group varchar(3) , Job varchar(20) not null , Vehicle_No varchar(11) not null, foreign key(Vehicle_No) references Vehicle(Vehicle_No) ) ;\")\n",
        "cursor.execute(\"create table Visitor (Visitor_ID bigint primary key , First_Name varchar(50) not null , Last_Name varchar(50) not null , Gender varchar(20) not null , Contact_No bigint not null , Blood_Group varchar(3) , Vehicle_No varchar(11) not null, foreign key(Vehicle_No) references Vehicle(Vehicle_No) ) ;\")\n",
        "# cursor.execute(\"create table Visitor (Visitor_ID bigint primary key , Vehicle_No varchar(10) not null, foreign key(Vehicle_No) references Vehicle(Vehicle_No) ) ;\")\n",
        "\n",
        "cursor.execute(\"create table Parking (Location_ID varchar(4) primary key , Location varchar(20) not null , No_Of_Parking_Spots int not null , Access_To varchar(7) not null ) ;\")\n",
        "# cursor.execute(\"create table Parking_Spot (Spot_ID int primary key , Location_ID varchar(4) not null , Vehicle_No varchar(10) not null, foreign key(Vehicle_No) references Vehicle(Vehicle_No) ) ;\")\n",
        "\n",
        "# cursor.execute(\"create table Violation_Index (Vehicle_No varchar(10) not null , Violation_Code int not null, foreign key(Vehicle_No) references Vehicle(Vehicle_No) ) ;\")\n",
        "# cursor.execute(\"create table Violation (Violation_Code int primary key , Description varchar(20) not null , fine int not null ) ;\")"
      ],
      "metadata": {
        "id": "EAR7Vy1_Q4de",
        "colab": {
          "base_uri": "https://localhost:8080/",
          "height": 321
        },
        "outputId": "4e03860a-c86d-4d25-8961-2bfb9f3bacb0"
      },
      "execution_count": null,
      "outputs": [
        {
          "output_type": "error",
          "ename": "OperationalError",
          "evalue": "ignored",
          "traceback": [
            "\u001b[0;31m---------------------------------------------------------------------------\u001b[0m",
            "\u001b[0;31mOperationalError\u001b[0m                          Traceback (most recent call last)",
            "\u001b[0;32m<ipython-input-13-e9603635b0c8>\u001b[0m in \u001b[0;36m<cell line: 3>\u001b[0;34m()\u001b[0m\n\u001b[1;32m      1\u001b[0m \u001b[0mcursor\u001b[0m\u001b[0;34m.\u001b[0m\u001b[0mexecute\u001b[0m\u001b[0;34m(\u001b[0m\u001b[0;34m\"create table Vehicle (Vehicle_No varchar(11) primary key , Owner_ID bigint not null , Owner_Type varchar(7) not null , Vehicle_Colour varchar(10) , Entry_Time time not null , Exit_Time time ) ;\"\u001b[0m\u001b[0;34m)\u001b[0m\u001b[0;34m\u001b[0m\u001b[0;34m\u001b[0m\u001b[0m\n\u001b[1;32m      2\u001b[0m \u001b[0;34m\u001b[0m\u001b[0m\n\u001b[0;32m----> 3\u001b[0;31m \u001b[0mcursor\u001b[0m\u001b[0;34m.\u001b[0m\u001b[0mexecute\u001b[0m\u001b[0;34m(\u001b[0m\u001b[0;34m\"create table Student (Student_ID bigint primary key , First_Name varchar(50) not null , Last_Name varchar(50) not null , DOB date not null , Gender varchar(20) not null , Contact_No bigint not null , Blood_Group varchar(3) , Year int not null, Vehicle_No varchar(11) not null, foreign key(Vehicle_No) references Vehicle(Vehicle_No) ) ;\"\u001b[0m\u001b[0;34m)\u001b[0m\u001b[0;34m\u001b[0m\u001b[0;34m\u001b[0m\u001b[0m\n\u001b[0m\u001b[1;32m      4\u001b[0m \u001b[0mcursor\u001b[0m\u001b[0;34m.\u001b[0m\u001b[0mexecute\u001b[0m\u001b[0;34m(\u001b[0m\u001b[0;34m\"create table Faculty (Faculty_ID bigint primary key , First_Name varchar(50) not null , Last_Name varchar(50) not null , DOB date not null , Gender varchar(20) not null , Contact_No bigint not null , Blood_Group varchar(3) , Department varchar(20) not null , Vehicle_No varchar(11) not null, foreign key(Vehicle_No) references Vehicle(Vehicle_No) ) ;\"\u001b[0m\u001b[0;34m)\u001b[0m\u001b[0;34m\u001b[0m\u001b[0;34m\u001b[0m\u001b[0m\n\u001b[1;32m      5\u001b[0m \u001b[0mcursor\u001b[0m\u001b[0;34m.\u001b[0m\u001b[0mexecute\u001b[0m\u001b[0;34m(\u001b[0m\u001b[0;34m\"create table Staff (Staff_ID bigint primary key , First_Name varchar(50) not null , Last_Name varchar(50) not null , DOB date not null , Gender varchar(20) not null , Contact_No bigint not null , Blood_Group varchar(3) , Job varchar(20) not null , Vehicle_No varchar(11) not null, foreign key(Vehicle_No) references Vehicle(Vehicle_No) ) ;\"\u001b[0m\u001b[0;34m)\u001b[0m\u001b[0;34m\u001b[0m\u001b[0;34m\u001b[0m\u001b[0m\n",
            "\u001b[0;31mOperationalError\u001b[0m: table Student already exists"
          ]
        }
      ]
    },
    {
      "cell_type": "code",
      "source": [
        "# cursor.execute(\"create table Vehicle (Vehicle_No varchar(10) primary key , Owner_ID bigint not null , Owner_Type varchar(7) not null , Vehicle_Count int not null , Vehicle_Colour varchar(10) , Entry_Time time not null , Exit_Time time not null ) ;\")"
      ],
      "metadata": {
        "id": "N8h_oiRmT3x8"
      },
      "execution_count": null,
      "outputs": []
    },
    {
      "cell_type": "code",
      "source": [
        "# cursor.execute(\"drop table Vehicle ; \" )\n",
        "\n",
        "# cursor.execute(\"drop table Student ; \" )\n",
        "# cursor.execute(\"drop table Faculty ; \" )\n",
        "# cursor.execute(\"drop table Staff ; \" )\n",
        "# cursor.execute(\"drop table Visitor ; \" )\n",
        "\n",
        "# cursor.execute(\"drop table Parking ; \" )\n",
        "# cursor.execute(\"drop table Parking_Spot ; \" )\n",
        "\n",
        "# cursor.execute(\"drop table Violation_Index ; \" )\n",
        "# cursor.execute(\"drop table Violation ; \" )"
      ],
      "metadata": {
        "colab": {
          "base_uri": "https://localhost:8080/"
        },
        "id": "By-vxwfESNSX",
        "outputId": "bc3e13f5-f5c3-4ed0-86cd-ef7d7591b30f"
      },
      "execution_count": null,
      "outputs": [
        {
          "output_type": "execute_result",
          "data": {
            "text/plain": [
              "<sqlite3.Cursor at 0x7f8a9181f570>"
            ]
          },
          "metadata": {},
          "execution_count": 12
        }
      ]
    },
    {
      "cell_type": "code",
      "source": [
        "\n"
      ],
      "metadata": {
        "id": "rE6ZgOm2JepE"
      },
      "execution_count": null,
      "outputs": []
    },
    {
      "cell_type": "code",
      "source": [
        "final_detected = 55\n",
        "# cursor.execute(\"INSERT INTO vehicle values('{}','{}','{}','{}','{}','{}');\".format(final_detected , \"2\" , \"A\" , \"B\" , current_time, \"\" ))\n",
        "# cursor.execute(\"UPDATE vehicle set Exit_Time = \",current_time,\"where Vehicle_No = 55 ;\")\n",
        "cursor.execute(\"UPDATE vehicle SET Exit_Time = ? WHERE Vehicle_No = ?\", (current_time, final_detected))\n",
        "# cursor.execute(\"insert into Vehicle values ('CD23VF2145' , 2 , 'A' ,1, 'B' , '10:10:10' ) ; \" )\n",
        "# cursor.execute(\"insert into Vehicle values ('GH23PO2589' , 3 , 'A' , 1 , 'B' , '10:10:10' ) ; \" )\n",
        "# cursor.execute(\"insert into Vehicle values ('SW48DF1253' , 4 , 'A' , 1 , 'B' , '10:10:10' ) ; \" )"
      ],
      "metadata": {
        "colab": {
          "base_uri": "https://localhost:8080/"
        },
        "id": "eIMoQ9XZSyXG",
        "outputId": "28375cde-ff42-4d06-9b41-41e443ff6e92"
      },
      "execution_count": null,
      "outputs": [
        {
          "output_type": "execute_result",
          "data": {
            "text/plain": [
              "<sqlite3.Cursor at 0x7f8a909fd880>"
            ]
          },
          "metadata": {},
          "execution_count": 28
        }
      ]
    },
    {
      "cell_type": "code",
      "source": [
        "t1 = cursor.execute(\"select * from vehicle ;\")\n",
        "for row in t1:\n",
        "  print(row)"
      ],
      "metadata": {
        "colab": {
          "base_uri": "https://localhost:8080/"
        },
        "id": "LgZxTKtBRWsR",
        "outputId": "66d241b9-e253-44ee-a987-ec5be15827a0"
      },
      "execution_count": null,
      "outputs": [
        {
          "output_type": "stream",
          "name": "stdout",
          "text": [
            "('55', 2, 'A', 'B', '06:24:54', '06:36:42')\n"
          ]
        }
      ]
    }
  ]
}